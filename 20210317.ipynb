{
  "nbformat": 4,
  "nbformat_minor": 0,
  "metadata": {
    "colab": {
      "name": "Untitled6.ipynb",
      "provenance": [],
      "authorship_tag": "ABX9TyM7Yp7U1eAMOYSQbYjwcmY4",
      "include_colab_link": true
    },
    "kernelspec": {
      "name": "python3",
      "display_name": "Python 3"
    }
  },
  "cells": [
    {
      "cell_type": "markdown",
      "metadata": {
        "id": "view-in-github",
        "colab_type": "text"
      },
      "source": [
        "<a href=\"https://colab.research.google.com/github/qqjun421/class2021Spring/blob/main/20210317.ipynb\" target=\"_parent\"><img src=\"https://colab.research.google.com/assets/colab-badge.svg\" alt=\"Open In Colab\"/></a>"
      ]
    },
    {
      "cell_type": "code",
      "metadata": {
        "colab": {
          "base_uri": "https://localhost:8080/"
        },
        "id": "AyYOop-rvaSM",
        "outputId": "de10ef48-976e-4d47-d4e5-3e98c8e7a9e1"
      },
      "source": [
        "for i in range(1,5):\r\n",
        "   for j in range(2,5):\r\n",
        "      if i >=3:\r\n",
        "        print(i*j)"
      ],
      "execution_count": 27,
      "outputs": [
        {
          "output_type": "stream",
          "text": [
            "6\n",
            "9\n",
            "12\n",
            "8\n",
            "12\n",
            "16\n"
          ],
          "name": "stdout"
        }
      ]
    },
    {
      "cell_type": "code",
      "metadata": {
        "colab": {
          "base_uri": "https://localhost:8080/"
        },
        "id": "Qj6LkyQ6vbG9",
        "outputId": "f792156f-1562-4d08-b8ca-a9d16726bceb"
      },
      "source": [
        "a = ['black', 'live', 'too', 'matter']\r\n",
        "b = [i for i in a if len(i)>=4]\r\n",
        "print(b)"
      ],
      "execution_count": 28,
      "outputs": [
        {
          "output_type": "stream",
          "text": [
            "['black', 'live', 'matter']\n"
          ],
          "name": "stdout"
        }
      ]
    }
  ]
}