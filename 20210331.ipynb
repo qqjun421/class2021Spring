{
  "nbformat": 4,
  "nbformat_minor": 0,
  "metadata": {
    "colab": {
      "name": "Untitled11.ipynb",
      "provenance": [],
      "authorship_tag": "ABX9TyM/qMVTRIKRYttFz/ChRwN8",
      "include_colab_link": true
    },
    "kernelspec": {
      "name": "python3",
      "display_name": "Python 3"
    },
    "language_info": {
      "name": "python"
    }
  },
  "cells": [
    {
      "cell_type": "markdown",
      "metadata": {
        "id": "view-in-github",
        "colab_type": "text"
      },
      "source": [
        "<a href=\"https://colab.research.google.com/github/qqjun421/class2021Spring/blob/main/20210331.ipynb\" target=\"_parent\"><img src=\"https://colab.research.google.com/assets/colab-badge.svg\" alt=\"Open In Colab\"/></a>"
      ]
    },
    {
      "cell_type": "markdown",
      "metadata": {
        "id": "YWFFTjEn5jNg"
      },
      "source": [
        "  pitch    intensity   Formant           duration\n",
        "a 119.6Hz   79.73dB    925.8Hz, 1213Hz    0.433\n",
        "e 118.8Hz   77.12dB    574.9Hz, 1915Hz    0.354"
      ]
    }
  ]
}