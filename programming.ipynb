{
  "nbformat": 4,
  "nbformat_minor": 0,
  "metadata": {
    "colab": {
      "name": "Untitled1.ipynb",
      "provenance": [],
      "authorship_tag": "ABX9TyOWMHK4vvukWaHjJGiKR5pc",
      "include_colab_link": true
    },
    "kernelspec": {
      "name": "python3",
      "display_name": "Python 3"
    }
  },
  "cells": [
    {
      "cell_type": "markdown",
      "metadata": {
        "id": "view-in-github",
        "colab_type": "text"
      },
      "source": [
        "<a href=\"https://colab.research.google.com/github/qqjun421/class2021Spring/blob/main/programming.ipynb\" target=\"_parent\"><img src=\"https://colab.research.google.com/assets/colab-badge.svg\" alt=\"Open In Colab\"/></a>"
      ]
    },
    {
      "cell_type": "markdown",
      "metadata": {
        "id": "GJaBynw5pGGL"
      },
      "source": [
        "컴퓨터 언어에서 =은 같다라는 표현이 아니라 오른쪽의 내용을 왼쪽에 assign한다는 것임. 내용은 variable 변수임. a=1 b=2 c= 'love' a,b,c는 변수/오른쪽은 내용 컴퓨터 언어에서 문법 = 제어문임.\r\n",
        "문법중 반복은 for 조건은 if임 =사인이 2개 있으면 같다는 것임.\r\n",
        "함수는 입출력 관계임. 입력과 출력 사이에 어떠한 변화가 있는 그 상태를 함수라고 표현함.\r\n",
        "지금 AI의 대부분은 y=ax+b라는 함수로 이뤄져 있음"
      ]
    }
  ]
}